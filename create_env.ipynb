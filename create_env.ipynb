{
 "cells": [
  {
   "cell_type": "markdown",
   "id": "757057ff-3e29-456d-afbc-4ad78d97c674",
   "metadata": {},
   "source": [
    "# 1. Create Tiny-ML-Playground python env\n",
    "---\n",
    "- Create a virtual env and pre-install some needed libraries at once."
   ]
  },
  {
   "cell_type": "code",
   "execution_count": null,
   "id": "4b139960-55b8-4a0d-9c7e-6f458e16e972",
   "metadata": {},
   "outputs": [],
   "source": [
    "!conda env create -f tiny_ml_env.yml"
   ]
  },
  {
   "cell_type": "markdown",
   "id": "4f652360-47ea-41f1-9741-54f3a44920f2",
   "metadata": {},
   "source": [
    "# 2. Active this new env\n",
    "- Close this JupyterLab now.\n",
    "- Close the Anaconda and open it again (with administrators). \n",
    "- Choose the new env as below picture.\n",
    "- <img src=\"plots/choose_new_env.png\" width=\"800\" height=\"500\">\n",
    "- Now you can try all the Tiny_ML_Playground projects in each link. "
   ]
  },
  {
   "cell_type": "code",
   "execution_count": null,
   "id": "5381b82f-0e1f-491d-9e92-f815b7c79ea0",
   "metadata": {},
   "outputs": [],
   "source": []
  }
 ],
 "metadata": {
  "kernelspec": {
   "display_name": "Python 3 (ipykernel)",
   "language": "python",
   "name": "python3"
  },
  "language_info": {
   "codemirror_mode": {
    "name": "ipython",
    "version": 3
   },
   "file_extension": ".py",
   "mimetype": "text/x-python",
   "name": "python",
   "nbconvert_exporter": "python",
   "pygments_lexer": "ipython3",
   "version": "3.8.13"
  }
 },
 "nbformat": 4,
 "nbformat_minor": 5
}
